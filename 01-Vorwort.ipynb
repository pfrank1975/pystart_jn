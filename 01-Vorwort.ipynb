{
 "cells": [
  {
   "cell_type": "markdown",
   "id": "ccada76e",
   "metadata": {},
   "source": [
    "<h3>Vorwort</h3>"
   ]
  },
  {
   "cell_type": "markdown",
   "id": "9872a4ca",
   "metadata": {},
   "source": [
    "In Klasse 11 in 1993/94 hatten wir im Fach Datenverarbeitung 6-8 mal 2 Wochenstunden eine Einführung in die Programmiersprache <a href=\"https://www.freepascal.org\">Pascal</a>. Das genügte mir um Appetit zu bekommen. Für mehr reichte es lange Zeit nicht."
   ]
  },
  {
   "cell_type": "markdown",
   "id": "8c1acace",
   "metadata": {},
   "source": [
    "<h3>Ziel</h3>"
   ]
  },
  {
   "cell_type": "markdown",
   "id": "5a0897b4",
   "metadata": {},
   "source": [
    "Meine <a href=\"https://jupyter.org\">Jupyter-Notebooks</a> sind typischerweise für Nicht-Informatiker:innen. Gerne auch mit Hintergrund einer psychischen Erkrankung oder Langzeitarbeitslosigkeit. Denn es geht mir weniger um Technik und ihrer selbst willen, sondern mehr um ein problemlösungsorientiertes, positives Lernerlebnis."
   ]
  },
  {
   "cell_type": "markdown",
   "id": "62c374a6",
   "metadata": {},
   "source": [
    "<h3>Motivation</h3>"
   ]
  },
  {
   "cell_type": "markdown",
   "id": "35f11417",
   "metadata": {},
   "source": [
    "<a href=\"https://www.python.org\">Python</a> ist eine einfach zugängliche Sprache. Die klare <a href=\"https://www.google.com/search?q=was+versteht+man+unter+einer+Syntax\">Syntax</a> und große Flexibilität ist auch für Einsteiger gut geeignet. Dabei liegt mir eine auf der ganzen Welt vernetzte Community sehr am Herzen. Sie bindet viele verschiedene Typen von Menschen ein, nicht nur diejenigen, die in den üblichen linearen, logischen Mustern denken."
   ]
  },
  {
   "cell_type": "markdown",
   "id": "aae805c7",
   "metadata": {},
   "source": [
    "Python ist eine <a href=\"https://www.google.com/search?q=was+ist+eine+interpreter+basierte+sprache\">Interpreter</a> basierte Sprache. Dies ermöglicht der Programmierer:in ohne komplexes Kompilieren schnelle Ergebnisse zu erzielen. An dieser Stelle möchte ich die Schönheit des Programmierens als Teil des kreativen Prozesses erwähnen. Mich erinnert das teilweise an das stufenweise Erstellen von Gedichten."
   ]
  }
 ],
 "metadata": {
  "kernelspec": {
   "display_name": "Python 3 (ipykernel)",
   "language": "python",
   "name": "python3"
  },
  "language_info": {
   "codemirror_mode": {
    "name": "ipython",
    "version": 3
   },
   "file_extension": ".py",
   "mimetype": "text/x-python",
   "name": "python",
   "nbconvert_exporter": "python",
   "pygments_lexer": "ipython3",
   "version": "3.12.3"
  }
 },
 "nbformat": 4,
 "nbformat_minor": 5
}
