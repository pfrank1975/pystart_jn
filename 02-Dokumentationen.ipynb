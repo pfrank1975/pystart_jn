{
 "cells": [
  {
   "cell_type": "markdown",
   "id": "272825a6",
   "metadata": {},
   "source": [
    "<p>Offizielle Dokumentationen:\n",
    "<ul><li><a href=\"https://docs.python.org/tutorial/index.html\">The Python Tutorial</a></li>\n",
    "<li><a href=\"https://docs.python.org/reference/index.html\">The Python Language Reference</a></li>\n",
    "<li><a href=\"https://docs.python.org/library/index.html\">The Python Standard Library</a></li>\n",
    "<li><a href=\"https://docs.python.org/glossary.html\">The Python Glossary</a></li>\n",
    "<li><a href=\"https://peps.python.org/\">PEP 0 – Index of Python Enhancement Proposals (PEPs)</a></li>\n",
    "<li><a href=\"https://peps.python.org/pep-0008/\">PEP 8 – Style Guide for Python Code</a></li></ul></p>"
   ]
  }
 ],
 "metadata": {
  "kernelspec": {
   "display_name": "Python 3 (ipykernel)",
   "language": "python",
   "name": "python3"
  },
  "language_info": {
   "codemirror_mode": {
    "name": "ipython",
    "version": 3
   },
   "file_extension": ".py",
   "mimetype": "text/x-python",
   "name": "python",
   "nbconvert_exporter": "python",
   "pygments_lexer": "ipython3",
   "version": "3.12.3"
  }
 },
 "nbformat": 4,
 "nbformat_minor": 5
}
