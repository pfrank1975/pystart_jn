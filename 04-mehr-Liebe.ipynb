{
 "cells": [
  {
   "cell_type": "markdown",
   "id": "6d9910cd",
   "metadata": {},
   "source": [
    "Eigene Funktionen erstellen."
   ]
  },
  {
   "cell_type": "code",
   "execution_count": null,
   "id": "581bf9f5",
   "metadata": {},
   "outputs": [],
   "source": [
    "def abspielen():\n",
    "    print('Affirmation um für mehr Liebe in unserer Welt zu werben: '+str(songliste+1))"
   ]
  },
  {
   "cell_type": "code",
   "execution_count": null,
   "id": "0506a973",
   "metadata": {},
   "outputs": [],
   "source": [
    "for songliste in range(42):\n",
    "    abspielen()"
   ]
  }
 ],
 "metadata": {
  "kernelspec": {
   "display_name": "Python 3 (ipykernel)",
   "language": "python",
   "name": "python3"
  },
  "language_info": {
   "codemirror_mode": {
    "name": "ipython",
    "version": 3
   },
   "file_extension": ".py",
   "mimetype": "text/x-python",
   "name": "python",
   "nbconvert_exporter": "python",
   "pygments_lexer": "ipython3",
   "version": "3.12.3"
  }
 },
 "nbformat": 4,
 "nbformat_minor": 5
}
