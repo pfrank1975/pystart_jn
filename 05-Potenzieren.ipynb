{
 "cells": [
  {
   "cell_type": "markdown",
   "id": "077f1d99",
   "metadata": {},
   "source": [
    "Initialisieren der beiden Variablen."
   ]
  },
  {
   "cell_type": "code",
   "execution_count": null,
   "id": "78c60952",
   "metadata": {},
   "outputs": [],
   "source": [
    "counter = 0\n",
    "ergebnis = ''"
   ]
  },
  {
   "cell_type": "markdown",
   "id": "1be97528",
   "metadata": {},
   "source": [
    "Zwei Eingaben für die Berechnung."
   ]
  },
  {
   "cell_type": "code",
   "execution_count": null,
   "id": "680c0c35",
   "metadata": {},
   "outputs": [],
   "source": [
    "basis = input('Zu welcher Basis soll im Anschluss potenziert werden? ')\n",
    "limit = input('Wie viele Stufen sollen berechnet werden? ')"
   ]
  },
  {
   "cell_type": "markdown",
   "id": "376ff3ac",
   "metadata": {},
   "source": [
    "Wiederholung der bedingten Berechnung innerhalb eines Bereichs mit der Grenze der Variablen limit. Der größte Teil dieses Blocks hat eine kosmetische Ursache. Das letzte Element der Ausgabe soll ohne Aufzählungszeichen abschließen. Wichtig ist die Konvertierung der Eingaben des Typs String nach Integer und später das Ergebnis von Integer zu einem String."
   ]
  },
  {
   "cell_type": "code",
   "execution_count": null,
   "id": "98ca04e6",
   "metadata": {},
   "outputs": [],
   "source": [
    "for zahl in range(int(limit)):\n",
    "    zähler += 1\n",
    "    if zähler < int(limit):\n",
    "        ergebnis = str(ergebnis) + str(int(basis)**(zahl+1))+', '\n",
    "    else:\n",
    "        ergebnis = str(ergebnis) + str(int(basis)**(zahl+1))"
   ]
  },
  {
   "cell_type": "markdown",
   "id": "34e17605",
   "metadata": {},
   "source": [
    "Ausgabe der Berechnung."
   ]
  },
  {
   "cell_type": "code",
   "execution_count": null,
   "id": "67c827a4",
   "metadata": {},
   "outputs": [],
   "source": [
    "print(ergebnis)"
   ]
  }
 ],
 "metadata": {
  "kernelspec": {
   "display_name": "Python 3 (ipykernel)",
   "language": "python",
   "name": "python3"
  },
  "language_info": {
   "codemirror_mode": {
    "name": "ipython",
    "version": 3
   },
   "file_extension": ".py",
   "mimetype": "text/x-python",
   "name": "python",
   "nbconvert_exporter": "python",
   "pygments_lexer": "ipython3",
   "version": "3.12.3"
  }
 },
 "nbformat": 4,
 "nbformat_minor": 5
}
