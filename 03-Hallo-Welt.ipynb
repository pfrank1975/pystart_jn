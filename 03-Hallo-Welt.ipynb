{
 "cells": [
  {
   "cell_type": "markdown",
   "id": "66488475",
   "metadata": {},
   "source": [
    "Zuweisen eines Strings an eine Variable."
   ]
  },
  {
   "cell_type": "code",
   "execution_count": null,
   "id": "92830df9",
   "metadata": {},
   "outputs": [],
   "source": [
    "Autorin = 'Nicole'"
   ]
  },
  {
   "cell_type": "markdown",
   "id": "1e27d962",
   "metadata": {},
   "source": [
    "Ausgabe eines Strings."
   ]
  },
  {
   "cell_type": "code",
   "execution_count": null,
   "id": "dac27777",
   "metadata": {},
   "outputs": [],
   "source": [
    "print('Hallo Fremder.')"
   ]
  },
  {
   "cell_type": "markdown",
   "id": "399563a1",
   "metadata": {},
   "source": [
    "Ausgabe eines Prompts zum Entgegennehmen einer Eingabe. Diese wird in einer weiteren Variable gespeichert."
   ]
  },
  {
   "cell_type": "code",
   "execution_count": null,
   "id": "59823941",
   "metadata": {},
   "outputs": [],
   "source": [
    "Nutzerin = input('Wie lautet Dein Vorname, bitte? ')"
   ]
  },
  {
   "cell_type": "markdown",
   "id": "f3623a20",
   "metadata": {},
   "source": [
    "Ausgabe eines formattierten Strings bei Verwendung der beiden Variablen."
   ]
  },
  {
   "cell_type": "code",
   "execution_count": null,
   "id": "700f0989",
   "metadata": {},
   "outputs": [],
   "source": [
    "print(f'Danke {Nutzerin}! Die Autorin dieses kleinen Programmes heißt {Autorin}, und sie wünscht Dir eine gute Zeit.')"
   ]
  }
 ],
 "metadata": {
  "kernelspec": {
   "display_name": "Python 3 (ipykernel)",
   "language": "python",
   "name": "python3"
  },
  "language_info": {
   "codemirror_mode": {
    "name": "ipython",
    "version": 3
   },
   "file_extension": ".py",
   "mimetype": "text/x-python",
   "name": "python",
   "nbconvert_exporter": "python",
   "pygments_lexer": "ipython3",
   "version": "3.12.3"
  }
 },
 "nbformat": 4,
 "nbformat_minor": 5
}
